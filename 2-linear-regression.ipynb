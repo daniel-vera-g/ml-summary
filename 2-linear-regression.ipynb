{
 "cells": [
  {
   "cell_type": "markdown",
   "metadata": {},
   "source": [
    "# Lineare Regression\n",
    "\n",
    "> Vorhersage einer numerischen Zielvariable in Abhängigkeit von einer oder mehreren Eingangsvariablen = Weelchen Wert `y` erhält man für ein gegebenes `x` ?\n",
    "\n",
    "Trainingssaten enthält:\n",
    "\n",
    "1. Feature: *Input*(Eingangsvariable)\n",
    "2. Label: *Output*(Zielvariable)\n",
    "\n",
    "## Fragestellung\n",
    "\n",
    "> Welche Gerade $f(x) = w_0 + w_1 x$ beschreibt die Daten(Bspw. Punkte auf 2d-Diagramm) am besten?\n",
    "\n",
    "## Lösungsmöglichkeit\n",
    "\n",
    "> Die Gerade, die den Abstand(*Fehler*) zu Trainingsdaten minimiert\n",
    "\n",
    "* Dursch. Qudratischen Fehler über alle n Datenpunkte entspr. dem **mean squared error**:\n",
    "\n",
    "$MSE =  \\frac{1}{n} \\sum_{i=0}^n e^2_i = \\frac{1}{n} \\sum_{i=0}^n (y_i - f(x_i))^2 = \\frac{1}{n} \\sum_{i=0}^n (y_i - (w_0 + w_1x_i))^2$\n",
    "\n",
    "* MSE hängt nur v. Parametern $w_0$ und $w1$ ab und wird als **Kostenfunktion** *J*(**Cost function**) angegeben: $J(w_0, w_1) = \\frac{1}{n} \\sum_{i=0}^n (y_i - (w_0 + w_1x_i))^2$\n",
    "\n",
    "Ziel: **minimalen Koten** zu finden um den Fehler auf den Trainingsdaten zu minimieren.\n",
    "\n",
    "$\\Rightarrow$ **Optimum**(Paar v. $\\hat{w_0}$ und $\\hat{w_1}$) finden durch bspw. **Gradient Descent**.\n",
    "\n",
    "> An beliebigen Stelle starten und schrittweiß ein Richtung d. steilsten Abstiegs sich bewegen bis keine Verbesserung mehr erreicht wird.\n",
    "\n",
    "* *Richtung steilsten Abstiegs* "
   ]
  }
 ],
 "metadata": {
  "kernelspec": {
   "display_name": "Python 3",
   "language": "python",
   "name": "python3"
  },
  "language_info": {
   "codemirror_mode": {
    "name": "ipython",
    "version": 3
   },
   "file_extension": ".py",
   "mimetype": "text/x-python",
   "name": "python",
   "nbconvert_exporter": "python",
   "pygments_lexer": "ipython3",
   "version": "3.8.3"
  }
 },
 "nbformat": 4,
 "nbformat_minor": 4
}
