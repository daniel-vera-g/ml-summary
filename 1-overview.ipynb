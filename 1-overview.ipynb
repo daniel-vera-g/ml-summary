{
 "cells": [
  {
   "cell_type": "markdown",
   "metadata": {},
   "source": [
    "# Machine learning overview\n",
    "\n",
    "## ML Kategorien\n",
    "\n",
    "1. Supervised Learning\n",
    "2. Unsupervised Learning\n",
    "3. Reinforcement Learning\n",
    "\n",
    "### Supervised Learning\n",
    "\n",
    "> Zusammenhang zwischen Eingabedaten `x` & Zielvariablen `y` gelernt und in ML-Modell abgebildet\n",
    "\n",
    "`Trainingsdaten -> Modell-Training -> Machine-Learning Modell`\n",
    "\n",
    "* ML Modell dann nützlich um Vorhersagen auf neuen Datenpunkten zu machen\n",
    "\n",
    "ML Modelle für Supervised Learning:\n",
    "\n",
    "1. Lineare Regression\n",
    "2. Logistische Regression\n",
    "3. Entscheidungsbäume\n",
    "4. Random Forest\n",
    "5. Gradien Boosting Trees\n",
    "6. Deepl Learning\n",
    "...\n",
    "\n",
    "### Unsupervised Learning\n",
    "\n",
    "> Ziel ist es, Strukturen/Muster in Menge von Datenpunkten offenzulegen\n",
    "\n",
    "* Es gibt keine Zielvariable `y`\n",
    "\n",
    "Anwendungsfälle:\n",
    "\n",
    "1. Clustering: Menge v. Eingabedaten automatisch versch. Kategorien zugeordnet\n",
    "\n",
    "* Bspw.: **k-means**-Clustering\n",
    "\n",
    "2. Anomaly Detection\n",
    "...\n",
    "\n",
    "### Reinforcement Learning\n",
    "\n",
    "> Optimale Verhaltensmuster(\"Policies\") für Agenten in gegebenen Situationen(\"States\") zu finden\n",
    "\n",
    "* Im vergl. zum Unsuperviseed Learnung, liegt dynamische Umgebung(\"Environement\") vor\n",
    "* Keine Eingabedaten `x` und kein Label `y` aber `states, actions` und `rewards`\n",
    "* Ziel: Gesammelten Reward zu maximieren(Durch ausführen der besten `Actions`)\n",
    "\n",
    "## Herausforderungen\n",
    "\n",
    "1. Verfügbarkeit Trainingsdaten\n",
    "2. Repräsentative Trainingsdaten\n",
    "3. Qualität d. Trainingsdaten\n",
    "4. Wahl d. richtiten ML-Algo.\n",
    "5. Wahl d. richtigen Features\n"
   ]
  },
  {
   "cell_type": "markdown",
   "metadata": {},
   "source": []
  }
 ],
 "metadata": {
  "kernelspec": {
   "display_name": "Python 3",
   "language": "python",
   "name": "python3"
  },
  "language_info": {
   "codemirror_mode": {
    "name": "ipython",
    "version": 3
   },
   "file_extension": ".py",
   "mimetype": "text/x-python",
   "name": "python",
   "nbconvert_exporter": "python",
   "pygments_lexer": "ipython3",
   "version": "3.8.3"
  }
 },
 "nbformat": 4,
 "nbformat_minor": 4
}
